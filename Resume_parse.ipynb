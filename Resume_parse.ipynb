{
  "nbformat": 4,
  "nbformat_minor": 0,
  "metadata": {
    "colab": {
      "provenance": []
    },
    "kernelspec": {
      "name": "python3",
      "display_name": "Python 3"
    },
    "language_info": {
      "name": "python"
    }
  },
  "cells": [
    {
      "cell_type": "code",
      "source": [
        "import pandas as pd\n",
        "from nltk.tokenize import word_tokenize\n",
        "from sklearn.feature_extraction.text import CountVectorizer\n",
        "from sklearn.cluster import KMeans\n",
        "\n",
        "# Read CSV file\n",
        "df = pd.read_csv('/content/UpdatedResumeDataSet.csv')\n",
        "\n",
        "# Define keywords\n",
        "keywords = ['Python', 'Machine learning', 'KNN', 'Random Forest']  # Add more keywords as needed\n",
        "\n",
        "# Tokenize text\n",
        "df['tokenized_text'] = df['Resume'].apply(lambda x: word_tokenize(x))\n",
        "\n",
        "# Convert tokenized text into binary representation of keyword presence\n",
        "vectorizer = CountVectorizer(vocabulary=keywords, tokenizer=lambda x: x, lowercase=False, binary=True)\n",
        "X = vectorizer.fit_transform(df['tokenized_text'].tolist())\n",
        "\n",
        "# Apply K-means clustering\n",
        "kmeans = KMeans(n_clusters=2, random_state=42)  # You want only 1 cluster since you're looking for a binary output\n",
        "kmeans.fit(X)\n",
        "\n",
        "# Assign cluster labels\n",
        "df['cluster'] = kmeans.labels_\n",
        "\n",
        "# Display DataFrame with cluster labels\n",
        "print(df)"
      ],
      "metadata": {
        "colab": {
          "base_uri": "https://localhost:8080/"
        },
        "id": "fD_aO_X4l5Pz",
        "outputId": "bbbae3f7-7a5c-4418-d864-0bce87801dfa"
      },
      "execution_count": 19,
      "outputs": [
        {
          "output_type": "stream",
          "name": "stdout",
          "text": [
            "         Category                                             Resume  \\\n",
            "0    Data Science  Skills * Programming Languages: Python (pandas...   \n",
            "1    Data Science  Education Details \\r\\nMay 2013 to May 2017 B.E...   \n",
            "2    Data Science  Areas of Interest Deep Learning, Control Syste...   \n",
            "3    Data Science  Skills â¢ R â¢ Python â¢ SAP HANA â¢ Table...   \n",
            "4    Data Science  Education Details \\r\\n MCA   YMCAUST,  Faridab...   \n",
            "..            ...                                                ...   \n",
            "957       Testing  Computer Skills: â¢ Proficient in MS office (...   \n",
            "958       Testing  â Willingness to accept the challenges. â ...   \n",
            "959       Testing  PERSONAL SKILLS â¢ Quick learner, â¢ Eagerne...   \n",
            "960       Testing  COMPUTER SKILLS & SOFTWARE KNOWLEDGE MS-Power ...   \n",
            "961       Testing  Skill Set OS Windows XP/7/8/8.1/10 Database MY...   \n",
            "\n",
            "                                        tokenized_text  cluster  \n",
            "0    [Skills, *, Programming, Languages, :, Python,...        1  \n",
            "1    [Education, Details, May, 2013, to, May, 2017,...        0  \n",
            "2    [Areas, of, Interest, Deep, Learning, ,, Contr...        1  \n",
            "3    [Skills, â¢, R, â¢, Python, â¢, SAP, HANA, ...        1  \n",
            "4    [Education, Details, MCA, YMCAUST, ,, Faridaba...        0  \n",
            "..                                                 ...      ...  \n",
            "957  [Computer, Skills, :, â¢, Proficient, in, MS,...        0  \n",
            "958  [â, Willingness, to, accept, the, challenges...        0  \n",
            "959  [PERSONAL, SKILLS, â¢, Quick, learner, ,, â¢...        0  \n",
            "960  [COMPUTER, SKILLS, &, SOFTWARE, KNOWLEDGE, MS-...        0  \n",
            "961  [Skill, Set, OS, Windows, XP/7/8/8.1/10, Datab...        0  \n",
            "\n",
            "[962 rows x 4 columns]\n"
          ]
        },
        {
          "output_type": "stream",
          "name": "stderr",
          "text": [
            "/usr/local/lib/python3.10/dist-packages/sklearn/feature_extraction/text.py:528: UserWarning: The parameter 'token_pattern' will not be used since 'tokenizer' is not None'\n",
            "  warnings.warn(\n",
            "/usr/local/lib/python3.10/dist-packages/sklearn/cluster/_kmeans.py:870: FutureWarning: The default value of `n_init` will change from 10 to 'auto' in 1.4. Set the value of `n_init` explicitly to suppress the warning\n",
            "  warnings.warn(\n"
          ]
        }
      ]
    }
  ]
}